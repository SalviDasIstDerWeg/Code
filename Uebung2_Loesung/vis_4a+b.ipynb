{
 "cells": [
  {
   "cell_type": "code",
   "execution_count": null,
   "id": "66dfb667",
   "metadata": {},
   "outputs": [],
   "source": [
    "# -----------------------------------------------\n",
    "# Autoren:\n",
    "# Philipp Michtner\n",
    "# Salvatore Russo\n",
    "# Sophie Pilz\n",
    "#\n",
    "# Institution: FHGR\n",
    "# Kurs: Dashboard Design, MScUED&DV-WPF-FS23\n",
    "# Aufgabenblatt 2, Aufgabe 4a+4b\n",
    "# Abgabedatum: 12.05.2023\n",
    "# ----------------------------------------------"
   ]
  },
  {
   "cell_type": "code",
   "execution_count": null,
   "id": "c6513fbf",
   "metadata": {
    "scrolled": false
   },
   "outputs": [],
   "source": [
    "# Aufgabe 4a: Erstellung eines Diagramms; Diagrammart: Gruppiertes Balkendiagramm; Inhalt: Anzahl Rampen & Treppen in Abhängigkeit vom Baujahr\n",
    "\n",
    "import pandas as pd\n",
    "import plotly.express as px\n",
    "    \n",
    "# Input mit manuell eingetragenen Datensatz, da das Filtern/Gruppieren im Import-File nicht ordnungsgemäss funktioniert hat\n",
    "data = ({'Baujahr': ['1990', '1990', '2000', '2000', '2010', '2010', '2020', '2020'],\n",
    "         'Typ' : ['Rampen', 'Treppen',  'Rampen', 'Treppen','Rampen', 'Treppen','Rampen', 'Treppen'],\n",
    "         'Anzahl': [5, 15, 10, 12, 20, 8, 25, 5]})\n",
    "\n",
    "# Balkendiagramm erstellen\n",
    "fig = px.bar(data, x = 'Baujahr', y = 'Anzahl', color = 'Typ', barmode = 'group', title = 'Anzahl Rampen & Treppen in Abhängigkeit vom Baujahr', labels = {'x':'Baujahr', 'y':'Anzahl'})\n",
    "\n",
    "# Diagramm anzeigen\n",
    "fig.show()\n"
   ]
  },
  {
   "cell_type": "code",
   "execution_count": null,
   "id": "50de27a0",
   "metadata": {
    "scrolled": true
   },
   "outputs": [],
   "source": [
    "# Aufgabe 4b: Visuelle Adaptionen des Diagramms aus Aufgabe 4a; Diagrammart: Gruppiertes Balkendiagramm; Inhalt: Anzahl Rampen & Treppen in Abhängigkeit vom Baujahr\n",
    "\n",
    "import pandas as pd\n",
    "import plotly.express as px\n",
    "    \n",
    "# Input mit manuell eingetragenen Datensatz, da das Filtern/Gruppieren im Import-File nicht ordnungsgemäss funktioniert hat\n",
    "data = ({'Baujahr': ['1990', '1990', '2000', '2000', '2010', '2010', '2020', '2020'],\n",
    "         'Typ' : ['Rampen', 'Treppen',  'Rampen', 'Treppen','Rampen', 'Treppen','Rampen', 'Treppen'],\n",
    "         'Anzahl': [5, 15, 10, 12, 20, 8, 25, 5]})\n",
    "\n",
    "# Balkendiagramm erstellen (inkl. Farbänderung der Balken)\n",
    "fig = px.bar(\n",
    "    data,\n",
    "    x = 'Baujahr',\n",
    "    y = 'Anzahl',\n",
    "    color = 'Typ',\n",
    "    color_discrete_map = {\n",
    "        'Rampen': '#ffa016',\n",
    "        'Treppen': '#54bed6'\n",
    "    },\n",
    "    barmode = 'group',\n",
    "    title = 'Anzahl Rampen & Treppen in Abhängigkeit vom Baujahr',\n",
    "    labels = {\n",
    "        'x':'Baujahr',\n",
    "        'y':'Anzahl'\n",
    "    }\n",
    ")\n",
    "\n",
    "# Layout anpassen\n",
    "fig.update_layout(\n",
    "    plot_bgcolor = '#003540',\n",
    "    paper_bgcolor = '#003540',\n",
    "    font_family = 'Helvetica',\n",
    "    font_color = '#ffffff',\n",
    "    legend_title_text = ''\n",
    ")\n",
    "\n",
    "# Diagramm anzeigen\n",
    "fig.show()\n"
   ]
  },
  {
   "cell_type": "code",
   "execution_count": null,
   "id": "7926237f",
   "metadata": {},
   "outputs": [],
   "source": []
  },
  {
   "cell_type": "markdown",
   "id": "3c6ddfdc",
   "metadata": {},
   "source": [
    "--------------"
   ]
  },
  {
   "cell_type": "code",
   "execution_count": null,
   "id": "c82908a2",
   "metadata": {},
   "outputs": [],
   "source": [
    "# Ab hier Spielplatz - wird vor der finalen Abgabe entfernt"
   ]
  },
  {
   "cell_type": "code",
   "execution_count": null,
   "id": "c933881c",
   "metadata": {},
   "outputs": [],
   "source": [
    "# Diagrammart: IMPORT-CSV-TBD--Gruppiertes Balkendiagramm; Inhalt: Anzahl Rampen & Treppen in Abhängigkeit vom Baujahr\n",
    "\n",
    "import pandas as pd\n",
    "import plotly.express as px\n",
    "\n",
    "# Daten als CSV File laden\n",
    "data = pd.read_csv('rampe-treppe-rev.csv', sep=';')\n",
    "\n",
    "# Datentyp vom Baujahr ändern\n",
    "def change_data_type(csv_file, column_name):\n",
    "    data[column_name] = data[column_name].astype(str)\n",
    "    return data\n",
    "\n",
    "data = change_data_type(data, 'Baujahr')\n",
    "\n",
    "# Daten gruppieren\n",
    "datagr = data.groupby('Typ').count().reset_index()\n",
    "\n",
    "# Balkendiagramm erstellen\n",
    "fig = px.bar(data, x='Baujahr', y='Typ', color='Typ', barmode='group', title='Anzahl Rampen & Treppen in Abhängigkeit vom Baujahr', labels={'x':'Baujahr', 'y':'Anzahl'})\n",
    "\n",
    "# Diagramm anzeigen\n",
    "fig.show()\n",
    "\n",
    "\n",
    "\n",
    "\n",
    "\n",
    "\n"
   ]
  },
  {
   "cell_type": "code",
   "execution_count": null,
   "id": "d72f8a2c",
   "metadata": {},
   "outputs": [],
   "source": []
  }
 ],
 "metadata": {
  "kernelspec": {
   "display_name": "Python 3 (ipykernel)",
   "language": "python",
   "name": "python3"
  },
  "language_info": {
   "codemirror_mode": {
    "name": "ipython",
    "version": 3
   },
   "file_extension": ".py",
   "mimetype": "text/x-python",
   "name": "python",
   "nbconvert_exporter": "python",
   "pygments_lexer": "ipython3",
   "version": "3.10.9"
  }
 },
 "nbformat": 4,
 "nbformat_minor": 5
}
